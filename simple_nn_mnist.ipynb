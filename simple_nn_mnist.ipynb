{
 "cells": [
  {
   "cell_type": "code",
   "execution_count": 1,
   "metadata": {},
   "outputs": [
    {
     "name": "stderr",
     "output_type": "stream",
     "text": [
      "Using TensorFlow backend.\n"
     ]
    },
    {
     "name": "stdout",
     "output_type": "stream",
     "text": [
      "60000 train samples\n",
      "10000 test samples\n",
      "_________________________________________________________________\n",
      "Layer (type)                 Output Shape              Param #   \n",
      "=================================================================\n",
      "dense_1 (Dense)              (None, 512)               401920    \n",
      "_________________________________________________________________\n",
      "dropout_1 (Dropout)          (None, 512)               0         \n",
      "_________________________________________________________________\n",
      "dense_2 (Dense)              (None, 512)               262656    \n",
      "_________________________________________________________________\n",
      "dropout_2 (Dropout)          (None, 512)               0         \n",
      "_________________________________________________________________\n",
      "dense_3 (Dense)              (None, 10)                5130      \n",
      "=================================================================\n",
      "Total params: 669,706\n",
      "Trainable params: 669,706\n",
      "Non-trainable params: 0\n",
      "_________________________________________________________________\n",
      "Train on 60000 samples, validate on 10000 samples\n",
      "Epoch 1/20\n",
      "60000/60000 [==============================] - 10s - loss: 0.2446 - acc: 0.9246 - val_loss: 0.1180 - val_acc: 0.9644\n",
      "Epoch 2/20\n",
      "60000/60000 [==============================] - 10s - loss: 0.1027 - acc: 0.9683 - val_loss: 0.0814 - val_acc: 0.9760\n",
      "Epoch 3/20\n",
      "60000/60000 [==============================] - 11s - loss: 0.0745 - acc: 0.9771 - val_loss: 0.0853 - val_acc: 0.9755\n",
      "Epoch 4/20\n",
      "60000/60000 [==============================] - 12s - loss: 0.0603 - acc: 0.9822 - val_loss: 0.0725 - val_acc: 0.9800\n",
      "Epoch 5/20\n",
      "60000/60000 [==============================] - 10s - loss: 0.0497 - acc: 0.9849 - val_loss: 0.0769 - val_acc: 0.9799\n",
      "Epoch 6/20\n",
      "60000/60000 [==============================] - 11s - loss: 0.0435 - acc: 0.9869 - val_loss: 0.0861 - val_acc: 0.9798\n",
      "Epoch 7/20\n",
      "60000/60000 [==============================] - 10s - loss: 0.0356 - acc: 0.9895 - val_loss: 0.0873 - val_acc: 0.9812\n",
      "Epoch 8/20\n",
      "60000/60000 [==============================] - 9s - loss: 0.0357 - acc: 0.9897 - val_loss: 0.0750 - val_acc: 0.9837\n",
      "Epoch 9/20\n",
      "60000/60000 [==============================] - 9s - loss: 0.0304 - acc: 0.9905 - val_loss: 0.0968 - val_acc: 0.9805\n",
      "Epoch 10/20\n",
      "60000/60000 [==============================] - 10s - loss: 0.0291 - acc: 0.9918 - val_loss: 0.0876 - val_acc: 0.9816\n",
      "Epoch 11/20\n",
      "60000/60000 [==============================] - 9s - loss: 0.0295 - acc: 0.9919 - val_loss: 0.0908 - val_acc: 0.9823\n",
      "Epoch 12/20\n",
      "60000/60000 [==============================] - 9s - loss: 0.0227 - acc: 0.9933 - val_loss: 0.0906 - val_acc: 0.9831\n",
      "Epoch 13/20\n",
      "60000/60000 [==============================] - 10s - loss: 0.0236 - acc: 0.9937 - val_loss: 0.1012 - val_acc: 0.9827\n",
      "Epoch 14/20\n",
      "60000/60000 [==============================] - 10s - loss: 0.0207 - acc: 0.9943 - val_loss: 0.1014 - val_acc: 0.9837\n",
      "Epoch 15/20\n",
      "60000/60000 [==============================] - 10s - loss: 0.0214 - acc: 0.9942 - val_loss: 0.1065 - val_acc: 0.9814\n",
      "Epoch 16/20\n",
      "60000/60000 [==============================] - 10s - loss: 0.0197 - acc: 0.9947 - val_loss: 0.1145 - val_acc: 0.9832\n",
      "Epoch 17/20\n",
      "60000/60000 [==============================] - 14s - loss: 0.0202 - acc: 0.9946 - val_loss: 0.0910 - val_acc: 0.9857\n",
      "Epoch 18/20\n",
      "60000/60000 [==============================] - 11s - loss: 0.0178 - acc: 0.9951 - val_loss: 0.1041 - val_acc: 0.9852\n",
      "Epoch 19/20\n",
      "60000/60000 [==============================] - 14s - loss: 0.0182 - acc: 0.9954 - val_loss: 0.1208 - val_acc: 0.9820\n",
      "Epoch 20/20\n",
      "60000/60000 [==============================] - 10s - loss: 0.0164 - acc: 0.9955 - val_loss: 0.1240 - val_acc: 0.9819\n",
      "Test loss: 0.124049414298\n",
      "Test accuracy: 0.9819\n"
     ]
    }
   ],
   "source": [
    "'''Trains a simple deep NN on the MNIST dataset.\n",
    "Gets to 98.40% test accuracy after 20 epochs\n",
    "(there is *a lot* of margin for parameter tuning).\n",
    "2 seconds per epoch on a K520 GPU.\n",
    "'''\n",
    "\n",
    "from __future__ import print_function\n",
    "\n",
    "import keras\n",
    "from keras.datasets import mnist\n",
    "from keras.models import Sequential\n",
    "from keras.layers import Dense, Dropout\n",
    "from keras.optimizers import RMSprop\n",
    "\n",
    "\n",
    "batch_size = 128\n",
    "num_classes = 10\n",
    "epochs = 20\n",
    "\n",
    "# the data, shuffled and split between train and test sets\n",
    "(x_train, y_train), (x_test, y_test) = mnist.load_data()\n",
    "\n",
    "x_train = x_train.reshape(60000, 784)\n",
    "x_test = x_test.reshape(10000, 784)\n",
    "x_train = x_train.astype('float32')\n",
    "x_test = x_test.astype('float32')\n",
    "x_train /= 255\n",
    "x_test /= 255\n",
    "print(x_train.shape[0], 'train samples')\n",
    "print(x_test.shape[0], 'test samples')\n",
    "\n",
    "# convert class vectors to binary class matrices\n",
    "y_train = keras.utils.to_categorical(y_train, num_classes)\n",
    "y_test = keras.utils.to_categorical(y_test, num_classes)\n",
    "\n",
    "model = Sequential()\n",
    "model.add(Dense(512, activation='relu', input_shape=(784,)))\n",
    "model.add(Dropout(0.2))\n",
    "model.add(Dense(512, activation='relu'))\n",
    "model.add(Dropout(0.2))\n",
    "model.add(Dense(10, activation='softmax'))\n",
    "\n",
    "model.summary()\n",
    "\n",
    "model.compile(loss='categorical_crossentropy',\n",
    "              optimizer=RMSprop(),\n",
    "              metrics=['accuracy'])\n",
    "\n",
    "history = model.fit(x_train, y_train,\n",
    "                    batch_size=batch_size,\n",
    "                    epochs=epochs,\n",
    "                    verbose=1,\n",
    "                    validation_data=(x_test, y_test))\n",
    "score = model.evaluate(x_test, y_test, verbose=0)\n",
    "print('Test loss:', score[0])\n",
    "print('Test accuracy:', score[1])"
   ]
  },
  {
   "cell_type": "code",
   "execution_count": 9,
   "metadata": {
    "collapsed": true
   },
   "outputs": [],
   "source": [
    "import numpy as np\n",
    "import matplotlib.pyplot as plt\n",
    "import matplotlib.cm as cm\n",
    "import pylab as pl\n",
    "import numpy.ma as ma\n",
    "%matplotlib inline\n",
    "\n",
    "from mpl_toolkits.axes_grid1 import make_axes_locatable\n",
    "\n",
    "def nice_imshow(ax, data, vmin=None, vmax=None, cmap=None):\n",
    "    \"\"\"Wrapper around pl.imshow\"\"\"\n",
    "    if cmap is None:\n",
    "        cmap = cm.jet\n",
    "    if vmin is None:\n",
    "        vmin = data.min()\n",
    "    if vmax is None:\n",
    "        vmax = data.max()\n",
    "    divider = make_axes_locatable(ax)\n",
    "    cax = divider.append_axes(\"right\", size=\"5%\", pad=0.05)\n",
    "    im = ax.imshow(data, vmin=vmin, vmax=vmax, interpolation='nearest', cmap=cmap)\n",
    "    pl.colorbar(im, cax=cax)\n",
    "    \n",
    "def make_mosaic(imgs, nrows, ncols, border=1):\n",
    "    \"\"\"\n",
    "    Given a set of images with all the same shape, makes a\n",
    "    mosaic with nrows and ncols\n",
    "    \"\"\"\n",
    "    nimgs = imgs.shape[0]\n",
    "    imshape = imgs.shape[1:]\n",
    "    \n",
    "    mosaic = ma.masked_all((nrows * imshape[0] + (nrows - 1) * border,\n",
    "                            ncols * imshape[1] + (ncols - 1) * border),\n",
    "                            dtype=np.float32)\n",
    "    \n",
    "    paddedh = imshape[0] + border\n",
    "    paddedw = imshape[1] + border\n",
    "    for i in xrange(nimgs):\n",
    "        row = int(np.floor(i / ncols))\n",
    "        col = i % ncols\n",
    "        \n",
    "        mosaic[row * paddedh:row * paddedh + imshape[0],\n",
    "               col * paddedw:col * paddedw + imshape[1]] = imgs[i]\n",
    "    return mosaic\n",
    "\n",
    "#pl.imshow(make_mosaic(np.random.random((9, 10, 10)), 3, 3, border=1))"
   ]
  },
  {
   "cell_type": "code",
   "execution_count": 10,
   "metadata": {},
   "outputs": [
    {
     "name": "stdout",
     "output_type": "stream",
     "text": [
      "W shape :  (784, 512)\n",
      "(512,)\n"
     ]
    },
    {
     "data": {
      "text/plain": [
       "<matplotlib.image.AxesImage at 0x12fdfaa90>"
      ]
     },
     "execution_count": 10,
     "metadata": {},
     "output_type": "execute_result"
    },
    {
     "data": {
      "image/png": "[encoded data removed]",
      "text/plain": [
       "<matplotlib.figure.Figure at 0x12f3cecd0>"
      ]
     },
     "metadata": {},
     "output_type": "display_data"
    }
   ],
   "source": [
    "# Visualize weights\n",
    "W = model.layers[0].get_weights()\n",
    "W = np.squeeze(W[0])\n",
    "print(\"W shape : \", W.shape)\n",
    "W = np.squeeze(W[0])\n",
    "print(W.shape)\n",
    "\n",
    "plt.imshow(W.reshape(16,32), interpolation='none', cmap=plt.cm.gray) \n",
    "\n",
    "# pl.figure(figsize=(15, 15))\n",
    "# pl.title('conv1 weights')\n",
    "# nice_imshow(pl.gca(), make_mosaic(W, 6, 6), cmap=cm.binary)"
   ]
  },
  {
   "cell_type": "code",
   "execution_count": null,
   "metadata": {},
   "outputs": [
    {
     "data": {
      "text/plain": [
       "<matplotlib.image.AxesImage at 0x13008f610>"
      ]
     },
     "execution_count": 11,
     "metadata": {},
     "output_type": "execute_result"
    }
   ],
   "source": [
    "#find pattern\n",
    "W = model.layers[0].get_weights()\n",
    "weights = np.squeeze(W[0])\n",
    "\n",
    "inp = np.zeros((28,28))\n",
    "inp[1:5:2,::3] = 1\n",
    "inp = inp.reshape((784,))\n",
    "\n",
    "outp = inp.dot(weights) > 1\n",
    "\n",
    "plt.imshow(outp.reshape(16,32), interpolation='none', cmap=plt.cm.gray) "
   ]
  },
  {
   "cell_type": "code",
   "execution_count": 5,
   "metadata": {
    "collapsed": true
   },
   "outputs": [],
   "source": [
    "inp = np.ones((784,))\n",
    "outp = inp.dot(weights)\n",
    "average_act = np.sum(outp)/512"
   ]
  },
  {
   "cell_type": "code",
   "execution_count": 8,
   "metadata": {},
   "outputs": [
    {
     "name": "stdout",
     "output_type": "stream",
     "text": [
      "W shape :  (512, 28, 28)\n"
     ]
    },
    {
     "ename": "NameError",
     "evalue": "global name 'ma' is not defined",
     "output_type": "error",
     "traceback": [
      "\u001b[0;31m---------------------------------------------------------------------------\u001b[0m",
      "\u001b[0;31mNameError\u001b[0m                                 Traceback (most recent call last)",
      "\u001b[0;32m<ipython-input-8-57c462bbe03c>\u001b[0m in \u001b[0;36m<module>\u001b[0;34m()\u001b[0m\n\u001b[1;32m      9\u001b[0m \u001b[0mpl\u001b[0m\u001b[0;34m.\u001b[0m\u001b[0mfigure\u001b[0m\u001b[0;34m(\u001b[0m\u001b[0mfigsize\u001b[0m\u001b[0;34m=\u001b[0m\u001b[0;34m(\u001b[0m\u001b[0;36m15\u001b[0m\u001b[0;34m,\u001b[0m \u001b[0;36m15\u001b[0m\u001b[0;34m)\u001b[0m\u001b[0;34m)\u001b[0m\u001b[0;34m\u001b[0m\u001b[0m\n\u001b[1;32m     10\u001b[0m \u001b[0mpl\u001b[0m\u001b[0;34m.\u001b[0m\u001b[0mtitle\u001b[0m\u001b[0;34m(\u001b[0m\u001b[0;34m'layer 1 weights [first 9 in weights array]'\u001b[0m\u001b[0;34m)\u001b[0m\u001b[0;34m\u001b[0m\u001b[0m\n\u001b[0;32m---> 11\u001b[0;31m \u001b[0mpl\u001b[0m\u001b[0;34m.\u001b[0m\u001b[0mimshow\u001b[0m\u001b[0;34m(\u001b[0m\u001b[0mmake_mosaic\u001b[0m\u001b[0;34m(\u001b[0m\u001b[0mW\u001b[0m\u001b[0;34m[\u001b[0m\u001b[0;36m0\u001b[0m\u001b[0;34m:\u001b[0m\u001b[0;36m9\u001b[0m\u001b[0;34m]\u001b[0m\u001b[0;34m,\u001b[0m \u001b[0;36m3\u001b[0m\u001b[0;34m,\u001b[0m \u001b[0;36m3\u001b[0m\u001b[0;34m,\u001b[0m \u001b[0mborder\u001b[0m\u001b[0;34m=\u001b[0m\u001b[0;36m1\u001b[0m\u001b[0;34m)\u001b[0m\u001b[0;34m)\u001b[0m\u001b[0;34m\u001b[0m\u001b[0m\n\u001b[0m",
      "\u001b[0;32m<ipython-input-7-0f2532a0290b>\u001b[0m in \u001b[0;36mmake_mosaic\u001b[0;34m(imgs, nrows, ncols, border)\u001b[0m\n\u001b[1;32m     28\u001b[0m     \u001b[0mimshape\u001b[0m \u001b[0;34m=\u001b[0m \u001b[0mimgs\u001b[0m\u001b[0;34m.\u001b[0m\u001b[0mshape\u001b[0m\u001b[0;34m[\u001b[0m\u001b[0;36m1\u001b[0m\u001b[0;34m:\u001b[0m\u001b[0;34m]\u001b[0m\u001b[0;34m\u001b[0m\u001b[0m\n\u001b[1;32m     29\u001b[0m \u001b[0;34m\u001b[0m\u001b[0m\n\u001b[0;32m---> 30\u001b[0;31m     mosaic = ma.masked_all((nrows * imshape[0] + (nrows - 1) * border,\n\u001b[0m\u001b[1;32m     31\u001b[0m                             ncols * imshape[1] + (ncols - 1) * border),\n\u001b[1;32m     32\u001b[0m                             dtype=np.float32)\n",
      "\u001b[0;31mNameError\u001b[0m: global name 'ma' is not defined"
     ]
    },
    {
     "data": {
      "image/png": "[encoded data removed]",
      "text/plain": [
       "<matplotlib.figure.Figure at 0x12b6b1090>"
      ]
     },
     "metadata": {},
     "output_type": "display_data"
    }
   ],
   "source": [
    "# NEW Visualize weights\n",
    "# Get the weights of the first layer\n",
    "W = model.layers[0].get_weights()[0]\n",
    "# Reshape the weights array to get the 28 x 28 shape of the input data\n",
    "W = W.T\n",
    "W = W.reshape(512,28,28)\n",
    "print(\"W shape : \", W.shape)\n",
    "\n",
    "pl.figure(figsize=(15, 15))\n",
    "pl.title('layer 1 weights [first 9 in weights array]')\n",
    "pl.imshow(make_mosaic(W[0:9], 3, 3, border=1))"
   ]
  },
  {
   "cell_type": "code",
   "execution_count": null,
   "metadata": {},
   "outputs": [],
   "source": [
    "# Get the weights of the final layer\n",
    "L4Wt = model.layers[4].get_weights()[0]\n",
    "L4Wt = L4Wt.T\n",
    "nodes = np.zeros((10,28,28))\n",
    "idx = 0\n",
    "for node in L4Wt:\n",
    "    # Matrix vector product of the weights vector corresponding with node 0\n",
    "    # and the weights matrix of the preceding layer (layer 2)\n",
    "    node = np.dot(model.layers[2].get_weights()[0],node)\n",
    "    # Matrix vector product of the previously computed weights vector\n",
    "    # and the weights matrix of the input layer (layer 0)\n",
    "    node = np.dot(model.layers[0].get_weights()[0],node)\n",
    "    node = node.reshape(28,28)\n",
    "    nodes[idx,:,:] = node\n",
    "    idx += 1\n",
    "pl.figure(figsize=(15, 15))\n",
    "pl.title('output layer kernels')\n",
    "pl.imshow(make_mosaic(nodes, 2, 5, border=1))"
   ]
  },
  {
   "cell_type": "code",
   "execution_count": null,
   "metadata": {
    "collapsed": true
   },
   "outputs": [],
   "source": []
  }
 ],
 "metadata": {
  "kernelspec": {
   "display_name": "Python [Root]",
   "language": "python",
   "name": "Python [Root]"
  },
  "language_info": {
   "codemirror_mode": {
    "name": "ipython",
    "version": 2
   },
   "file_extension": ".py",
   "mimetype": "text/x-python",
   "name": "python",
   "nbconvert_exporter": "python",
   "pygments_lexer": "ipython2",
   "version": "2.7.12"
  }
 },
 "nbformat": 4,
 "nbformat_minor": 2
}
