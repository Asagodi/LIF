{
 "cells": [
  {
   "cell_type": "code",
   "execution_count": 4,
   "metadata": {
    "collapsed": true
   },
   "outputs": [],
   "source": [
    "import sys\n",
    "sys.path.append('/home/asagodi/Documents/UvA/Master/Projects/MES/LIF/FuncsTools')"
   ]
  },
  {
   "cell_type": "code",
   "execution_count": 5,
   "metadata": {
    "scrolled": true
   },
   "outputs": [
    {
     "name": "stdout",
     "output_type": "stream",
     "text": [
      "60000 train samples\n",
      "10000 test samples\n"
     ]
    },
    {
     "name": "stderr",
     "output_type": "stream",
     "text": [
      "/home/asagodi/.local/lib/python2.7/site-packages/ipykernel_launcher.py:44: UserWarning: The `input_dim` and `input_length` arguments in recurrent layers are deprecated. Use `input_shape` instead.\n",
      "/home/asagodi/.local/lib/python2.7/site-packages/ipykernel_launcher.py:44: UserWarning: Update your `SimpleRNN` call to the Keras 2 API: `SimpleRNN(100, return_sequences=True, input_shape=(1, 784))`\n"
     ]
    },
    {
     "name": "stdout",
     "output_type": "stream",
     "text": [
      "_________________________________________________________________\n",
      "Layer (type)                 Output Shape              Param #   \n",
      "=================================================================\n",
      "simple_rnn_1 (SimpleRNN)     (None, 1, 100)            88500     \n",
      "_________________________________________________________________\n",
      "simple_rnn_2 (SimpleRNN)     (None, 10)                1110      \n",
      "=================================================================\n",
      "Total params: 89,610\n",
      "Trainable params: 89,610\n",
      "Non-trainable params: 0\n",
      "_________________________________________________________________\n"
     ]
    }
   ],
   "source": [
    "'''\n",
    "Trains a simple deep RNN on the MNIST dataset.\n",
    "'''\n",
    "from __future__ import print_function\n",
    "\n",
    "import keras\n",
    "from keras.datasets import mnist\n",
    "from keras.models import Sequential\n",
    "from keras.layers import Dense, Dropout\n",
    "from keras.optimizers import RMSprop\n",
    "import tensorflow as tf\n",
    "\n",
    "import numpy as np\n",
    "import matplotlib.pyplot as plt\n",
    "import itertools\n",
    "import networkx as nx\n",
    "\n",
    "from MESfunctions import *\n",
    "from additkerastf import *\n",
    "\n",
    "batch_size = 32\n",
    "num_classes = 10\n",
    "epochs = 2\n",
    "\n",
    "# the data, shuffled and split between train and test sets\n",
    "(x_train, y_train), (x_test, y_test) = mnist.load_data()\n",
    "\n",
    "x_train = x_train.reshape(60000, 1, 784)\n",
    "x_test = x_test.reshape(10000, 1, 784)\n",
    "x_train = x_train.astype('float32')\n",
    "x_test = x_test.astype('float32')\n",
    "x_train /= 255\n",
    "x_test /= 255\n",
    "print(x_train.shape[0], 'train samples')\n",
    "print(x_test.shape[0], 'test samples')\n",
    "\n",
    "# convert class vectors to binary class matrices\n",
    "y_train = keras.utils.to_categorical(y_train, num_classes)\n",
    "y_test = keras.utils.to_categorical(y_test, num_classes)\n",
    "y_train = y_train.reshape(60000,10)\n",
    "y_test = y_test.reshape(10000,10)\n",
    "\n",
    "model = Sequential()\n",
    "model.add(keras.layers.recurrent.SimpleRNN(100, input_dim=784, input_length=1, return_sequences=True))\n",
    "# model.add(keras.layers.recurrent.SimpleRNN(32, return_sequences=True))\n",
    "# model.add(keras.layers.recurrent.SimpleRNN(16, activation='tanh', use_bias=True, kernel_initializer='glorot_uniform',\n",
    "#                                  recurrent_initializer='orthogonal', bias_initializer='zeros',\n",
    "#                                  kernel_regularizer=None, recurrent_regularizer=None, bias_regularizer=None,\n",
    "#                                  activity_regularizer=None, kernel_constraint=None, recurrent_constraint=None,\n",
    "#                                  bias_constraint=None, dropout=0.0, recurrent_dropout=0.0, return_sequences=True))\n",
    "model.add(keras.layers.recurrent.SimpleRNN(10))\n",
    "\n",
    "model.summary()"
   ]
  },
  {
   "cell_type": "code",
   "execution_count": 6,
   "metadata": {},
   "outputs": [
    {
     "name": "stdout",
     "output_type": "stream",
     "text": [
      "Train on 60000 samples, validate on 10000 samples\n",
      "Epoch 1/2\n",
      "60000/60000 [==============================] - 23s - loss: 9.1061 - acc: 0.2007 - val_loss: 8.8581 - val_acc: 0.1829\n",
      "Epoch 2/2\n",
      "60000/60000 [==============================] - 21s - loss: 9.4800 - acc: 0.2594 - val_loss: 9.6285 - val_acc: 0.2968\n",
      "Test loss: 9.62845593567\n",
      "Test accuracy: 0.2968\n"
     ]
    }
   ],
   "source": [
    "model.compile(loss='categorical_crossentropy',\n",
    "              optimizer=RMSprop(),\n",
    "              metrics=['accuracy'])\n",
    "\n",
    "history = model.fit(x_train, y_train,\n",
    "                    batch_size=batch_size,\n",
    "                    epochs=epochs,\n",
    "                    verbose=1,\n",
    "                    validation_data=(x_test, y_test))\n",
    "score = model.evaluate(x_test, y_test, verbose=0)\n",
    "print('Test loss:', score[0])\n",
    "print('Test accuracy:', score[1])"
   ]
  },
  {
   "cell_type": "code",
   "execution_count": 7,
   "metadata": {
    "collapsed": true
   },
   "outputs": [],
   "source": [
    "rec_weight_mat_2 =  get_weights_TF(model, 4)"
   ]
  },
  {
   "cell_type": "code",
   "execution_count": 8,
   "metadata": {
    "scrolled": true
   },
   "outputs": [
    {
     "data": {
      "image/png": "[encoded data removed]",
      "text/plain": [
       "<matplotlib.figure.Figure at 0x7fad6244e1d0>"
      ]
     },
     "metadata": {},
     "output_type": "display_data"
    }
   ],
   "source": [
    "plt.imshow(rec_weight_mat_2, interpolation='none', cmap=plt.cm.jet) \n",
    "plt.show()"
   ]
  },
  {
   "cell_type": "code",
   "execution_count": 9,
   "metadata": {
    "collapsed": true
   },
   "outputs": [],
   "source": [
    "lp, lpnd, dp = find_pattern_by_weight(9, rec_weight_mat_2, 0.42, 3)"
   ]
  },
  {
   "cell_type": "code",
   "execution_count": 10,
   "metadata": {
    "collapsed": true
   },
   "outputs": [],
   "source": [
    "#get weights from layer 1 to 2\n",
    "proj_weight_mat = get_weights_TF(model, 3)\n",
    "\n",
    "#get weights in layer 1\n",
    "rec_weight_mat_1 = get_weights_TF(model, 1)  "
   ]
  },
  {
   "cell_type": "code",
   "execution_count": 15,
   "metadata": {},
   "outputs": [
    {
     "name": "stdout",
     "output_type": "stream",
     "text": [
      "6\n"
     ]
    }
   ],
   "source": [
    "patt_len = 3\n",
    "lp, lpnd, dp = find_pattern_by_weight(0, rec_weight_mat_1, 0.2142, patt_len)\n",
    "# print(len(dp[patt_len]))\n",
    "allnum = [item for sublist in dp[patt_len] for item in sublist]\n",
    "print(len(allnum))\n"
   ]
  },
  {
   "cell_type": "code",
   "execution_count": 16,
   "metadata": {},
   "outputs": [
    {
     "data": {
      "image/png": "[encoded data removed]",
      "text/plain": [
       "<matplotlib.figure.Figure at 0x7fad8376b750>"
      ]
     },
     "metadata": {},
     "output_type": "display_data"
    }
   ],
   "source": [
    "from collections import Counter\n",
    "\n",
    "dictnums = Counter(allnum)\n",
    "pos = np.arange(len(dictnums.keys()))\n",
    "ax = plt.axes()\n",
    "plt.bar(dictnums.keys(), dictnums.values(), 1, color='g')                 \n",
    "plt.show()"
   ]
  },
  {
   "cell_type": "code",
   "execution_count": 17,
   "metadata": {},
   "outputs": [
    {
     "name": "stdout",
     "output_type": "stream",
     "text": [
      "[]\n"
     ]
    }
   ],
   "source": [
    "relevantneurons = [ k for k in dictnums.keys() if dictnums[k] > 30 ]\n",
    "print(relevantneurons)"
   ]
  },
  {
   "cell_type": "code",
   "execution_count": 18,
   "metadata": {},
   "outputs": [
    {
     "data": {
      "image/png": "[encoded data removed]",
      "text/plain": [
       "<matplotlib.figure.Figure at 0x7fad504b9c90>"
      ]
     },
     "metadata": {},
     "output_type": "display_data"
    }
   ],
   "source": [
    "outp = colimit_of_pattern(relevantneurons, proj_weight_mat, activation=0.25)\n",
    "plt.imshow(outp.reshape(1,10), interpolation='none', cmap=plt.cm.gray) \n",
    "plt.show()"
   ]
  },
  {
   "cell_type": "code",
   "execution_count": 19,
   "metadata": {
    "collapsed": true
   },
   "outputs": [],
   "source": [
    "#check whether colimit is strongly connected\n",
    "lp, lpnd, dp = find_pattern_by_weight(1, rec_weight_mat_2, 0.42, 3)"
   ]
  },
  {
   "cell_type": "code",
   "execution_count": 20,
   "metadata": {},
   "outputs": [
    {
     "name": "stdout",
     "output_type": "stream",
     "text": [
      "{2: [[1, 5]], 3: [[1, 5, 9]]}\n"
     ]
    }
   ],
   "source": [
    "print(dp)\n",
    "#there is at least one pattern that is like the colimit\n",
    "#but pattern for increased activation limit colimit is not in possible colimits"
   ]
  },
  {
   "cell_type": "code",
   "execution_count": 21,
   "metadata": {},
   "outputs": [
    {
     "data": {
      "text/plain": [
       "<generator object strongly_connected_components at 0x7fad5fca7550>"
      ]
     },
     "execution_count": 21,
     "metadata": {},
     "output_type": "execute_result"
    }
   ],
   "source": [
    "import networkx as nx\n",
    "rec_weight_mat_2 = np.around(rec_weight_mat_2, decimals = 1)\n",
    "G=nx.DiGraph(rec_weight_mat_2)\n",
    "nx.strongly_connected_components(G)"
   ]
  },
  {
   "cell_type": "code",
   "execution_count": 22,
   "metadata": {},
   "outputs": [
    {
     "data": {
      "image/png": "[encoded data removed]",
      "text/plain": [
       "<matplotlib.figure.Figure at 0x7fad50483450>"
      ]
     },
     "metadata": {},
     "output_type": "display_data"
    }
   ],
   "source": [
    "pos = nx.spring_layout(G)\n",
    "nx.draw_networkx_nodes(G, pos)\n",
    "nx.draw_networkx_edges(G, pos, edgelist = G.edges(), arrows=True)\n",
    "labels = nx.get_edge_attributes(G,'weight')\n",
    "nx.draw_networkx_edge_labels(G,pos,edge_labels=labels)\n",
    "plt.show()"
   ]
  },
  {
   "cell_type": "code",
   "execution_count": 23,
   "metadata": {},
   "outputs": [
    {
     "name": "stdout",
     "output_type": "stream",
     "text": [
      "[[-0.2        -0.40000001  0.2        -0.40000001 -0.1         0.5        -0.1\n",
      "  -0.          0.5        -0.1       ]\n",
      " [-0.2         0.2        -0.30000001  0.2        -0.60000002  0.5         0.2\n",
      "  -0.2        -0.2        -0.1       ]\n",
      " [ 0.2         0.2         0.80000001 -0.2        -0.30000001  0.          0.2\n",
      "   0.2        -0.30000001  0.1       ]\n",
      " [ 0.         -0.30000001 -0.2        -0.2         0.30000001  0.30000001\n",
      "   0.40000001  0.40000001 -0.5         0.1       ]\n",
      " [-0.40000001  0.5        -0.1        -0.          0.         -0.\n",
      "   0.40000001  0.5         0.5        -0.1       ]\n",
      " [-0.69999999  0.1         0.2         0.1         0.2         0.1        -0.2\n",
      "  -0.1        -0.2         0.5       ]\n",
      " [ 0.30000001  0.5        -0.1        -0.40000001  0.40000001  0.30000001\n",
      "   0.2        -0.40000001  0.1         0.30000001]\n",
      " [-0.1         0.1         0.30000001  0.2         0.40000001  0.1         0.1\n",
      "  -0.30000001 -0.1        -0.69999999]\n",
      " [ 0.         -0.40000001  0.1         0.30000001 -0.         -0.2\n",
      "   0.69999999 -0.30000001  0.30000001  0.30000001]\n",
      " [ 0.30000001  0.1         0.1         0.60000002  0.2         0.5        -0.2\n",
      "   0.30000001  0.2         0.2       ]]\n"
     ]
    }
   ],
   "source": [
    "print(rec_weight_mat_2.round(decimals=2))"
   ]
  },
  {
   "cell_type": "code",
   "execution_count": 27,
   "metadata": {},
   "outputs": [
    {
     "ename": "AttributeError",
     "evalue": "'bool' object has no attribute 'is_directed'",
     "output_type": "error",
     "traceback": [
      "\u001b[0;31m---------------------------------------------------------------------------\u001b[0m",
      "\u001b[0;31mAttributeError\u001b[0m                            Traceback (most recent call last)",
      "\u001b[0;32m<ipython-input-27-95749389b30f>\u001b[0m in \u001b[0;36m<module>\u001b[0;34m()\u001b[0m\n\u001b[0;32m----> 1\u001b[0;31m \u001b[0mnx\u001b[0m\u001b[0;34m.\u001b[0m\u001b[0mstrongly_connected_components\u001b[0m\u001b[0;34m(\u001b[0m\u001b[0mG\u001b[0m\u001b[0;34m>\u001b[0m\u001b[0;36m0.3\u001b[0m\u001b[0;34m)\u001b[0m\u001b[0;34m\u001b[0m\u001b[0m\n\u001b[0m",
      "\u001b[0;32m<decorator-gen-164>\u001b[0m in \u001b[0;36mstrongly_connected_components\u001b[0;34m(G)\u001b[0m\n",
      "\u001b[0;32m/home/asagodi/.local/lib/python2.7/site-packages/networkx/utils/decorators.pyc\u001b[0m in \u001b[0;36m_not_implemented_for\u001b[0;34m(f, *args, **kwargs)\u001b[0m\n\u001b[1;32m     51\u001b[0m     \u001b[0;32mdef\u001b[0m \u001b[0m_not_implemented_for\u001b[0m\u001b[0;34m(\u001b[0m\u001b[0mf\u001b[0m\u001b[0;34m,\u001b[0m\u001b[0;34m*\u001b[0m\u001b[0margs\u001b[0m\u001b[0;34m,\u001b[0m\u001b[0;34m**\u001b[0m\u001b[0mkwargs\u001b[0m\u001b[0;34m)\u001b[0m\u001b[0;34m:\u001b[0m\u001b[0;34m\u001b[0m\u001b[0m\n\u001b[1;32m     52\u001b[0m         \u001b[0mgraph\u001b[0m \u001b[0;34m=\u001b[0m \u001b[0margs\u001b[0m\u001b[0;34m[\u001b[0m\u001b[0;36m0\u001b[0m\u001b[0;34m]\u001b[0m\u001b[0;34m\u001b[0m\u001b[0m\n\u001b[0;32m---> 53\u001b[0;31m         terms= {'directed':graph.is_directed(),\n\u001b[0m\u001b[1;32m     54\u001b[0m                 \u001b[0;34m'undirected'\u001b[0m\u001b[0;34m:\u001b[0m\u001b[0;32mnot\u001b[0m \u001b[0mgraph\u001b[0m\u001b[0;34m.\u001b[0m\u001b[0mis_directed\u001b[0m\u001b[0;34m(\u001b[0m\u001b[0;34m)\u001b[0m\u001b[0;34m,\u001b[0m\u001b[0;34m\u001b[0m\u001b[0m\n\u001b[1;32m     55\u001b[0m                 \u001b[0;34m'multigraph'\u001b[0m\u001b[0;34m:\u001b[0m\u001b[0mgraph\u001b[0m\u001b[0;34m.\u001b[0m\u001b[0mis_multigraph\u001b[0m\u001b[0;34m(\u001b[0m\u001b[0;34m)\u001b[0m\u001b[0;34m,\u001b[0m\u001b[0;34m\u001b[0m\u001b[0m\n",
      "\u001b[0;31mAttributeError\u001b[0m: 'bool' object has no attribute 'is_directed'"
     ]
    }
   ],
   "source": [
    "nx.strongly_connected_components(G)"
   ]
  },
  {
   "cell_type": "code",
   "execution_count": 25,
   "metadata": {},
   "outputs": [
    {
     "data": {
      "text/plain": [
       "[10]"
      ]
     },
     "execution_count": 25,
     "metadata": {},
     "output_type": "execute_result"
    }
   ],
   "source": [
    "[len(c) for c in sorted(nx.strongly_connected_components(G),\n",
    "                        key=len, reverse=True)]"
   ]
  },
  {
   "cell_type": "code",
   "execution_count": 26,
   "metadata": {},
   "outputs": [
    {
     "name": "stdout",
     "output_type": "stream",
     "text": [
      "set([0, 1, 2, 3, 4, 5, 6, 7, 8, 9])\n"
     ]
    },
    {
     "data": {
      "text/plain": [
       "[None]"
      ]
     },
     "execution_count": 26,
     "metadata": {},
     "output_type": "execute_result"
    }
   ],
   "source": [
    "[print(c) for c in sorted(nx.strongly_connected_components(G),\n",
    "                        key=len, reverse=True)]"
   ]
  },
  {
   "cell_type": "code",
   "execution_count": 31,
   "metadata": {},
   "outputs": [
    {
     "name": "stdout",
     "output_type": "stream",
     "text": [
      "set([9, 5])\n",
      "set([3])\n",
      "set([1])\n",
      "set([6])\n",
      "set([8])\n",
      "set([0])\n",
      "set([2])\n",
      "set([7])\n",
      "set([4])\n"
     ]
    },
    {
     "data": {
      "text/plain": [
       "[None, None, None, None, None, None, None, None, None]"
      ]
     },
     "execution_count": 31,
     "metadata": {},
     "output_type": "execute_result"
    }
   ],
   "source": [
    "G=nx.DiGraph(rec_weight_mat_2 >0.4)\n",
    "nx.strongly_connected_components(G)\n",
    "[print(c) for c in sorted(nx.strongly_connected_components(G),\n",
    "                        key=len, reverse=True)]"
   ]
  },
  {
   "cell_type": "code",
   "execution_count": null,
   "metadata": {
    "collapsed": true
   },
   "outputs": [],
   "source": []
  },
  {
   "cell_type": "code",
   "execution_count": null,
   "metadata": {
    "collapsed": true
   },
   "outputs": [],
   "source": []
  }
 ],
 "metadata": {
  "kernelspec": {
   "display_name": "Python 2",
   "language": "python",
   "name": "python2"
  },
  "language_info": {
   "codemirror_mode": {
    "name": "ipython",
    "version": 2
   },
   "file_extension": ".py",
   "mimetype": "text/x-python",
   "name": "python",
   "nbconvert_exporter": "python",
   "pygments_lexer": "ipython2",
   "version": "2.7.12"
  }
 },
 "nbformat": 4,
 "nbformat_minor": 2
}
