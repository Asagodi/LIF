{
 "cells": [
  {
   "cell_type": "code",
   "execution_count": 2,
   "metadata": {},
   "outputs": [
    {
     "name": "stderr",
     "output_type": "stream",
     "text": [
      "Using TensorFlow backend.\n"
     ]
    },
    {
     "name": "stdout",
     "output_type": "stream",
     "text": [
      "60000 train samples\n",
      "10000 test samples\n"
     ]
    },
    {
     "name": "stderr",
     "output_type": "stream",
     "text": [
      "/home/asagodi/.local/lib/python2.7/site-packages/ipykernel_launcher.py:40: UserWarning: The `input_dim` and `input_length` arguments in recurrent layers are deprecated. Use `input_shape` instead.\n",
      "/home/asagodi/.local/lib/python2.7/site-packages/ipykernel_launcher.py:40: UserWarning: Update your `SimpleRNN` call to the Keras 2 API: `SimpleRNN(100, return_sequences=True, input_shape=(1, 784))`\n"
     ]
    },
    {
     "name": "stdout",
     "output_type": "stream",
     "text": [
      "_________________________________________________________________\n",
      "Layer (type)                 Output Shape              Param #   \n",
      "=================================================================\n",
      "simple_rnn_1 (SimpleRNN)     (None, 1, 100)            88500     \n",
      "_________________________________________________________________\n",
      "simple_rnn_2 (SimpleRNN)     (None, 10)                1110      \n",
      "=================================================================\n",
      "Total params: 89,610\n",
      "Trainable params: 89,610\n",
      "Non-trainable params: 0\n",
      "_________________________________________________________________\n"
     ]
    }
   ],
   "source": [
    "'''\n",
    "Trains a simple deep RNN on the MNIST dataset.\n",
    "'''\n",
    "from __future__ import print_function\n",
    "\n",
    "import keras\n",
    "from keras.datasets import mnist\n",
    "from keras.models import Sequential\n",
    "from keras.layers import Dense, Dropout\n",
    "from keras.optimizers import RMSprop\n",
    "\n",
    "import numpy as np\n",
    "import matplotlib.pyplot as plt\n",
    "import itertools\n",
    "\n",
    "\n",
    "batch_size = 32\n",
    "num_classes = 10\n",
    "epochs = 2\n",
    "\n",
    "# the data, shuffled and split between train and test sets\n",
    "(x_train, y_train), (x_test, y_test) = mnist.load_data()\n",
    "\n",
    "x_train = x_train.reshape(60000, 1, 784)\n",
    "x_test = x_test.reshape(10000, 1, 784)\n",
    "x_train = x_train.astype('float32')\n",
    "x_test = x_test.astype('float32')\n",
    "x_train /= 255\n",
    "x_test /= 255\n",
    "print(x_train.shape[0], 'train samples')\n",
    "print(x_test.shape[0], 'test samples')\n",
    "\n",
    "# convert class vectors to binary class matrices\n",
    "y_train = keras.utils.to_categorical(y_train, num_classes)\n",
    "y_test = keras.utils.to_categorical(y_test, num_classes)\n",
    "y_train = y_train.reshape(60000,10)\n",
    "y_test = y_test.reshape(10000,10)\n",
    "\n",
    "model = Sequential()\n",
    "model.add(keras.layers.recurrent.SimpleRNN(100, input_dim=784, input_length=1, return_sequences=True))\n",
    "# model.add(keras.layers.recurrent.SimpleRNN(32, return_sequences=True))\n",
    "# model.add(keras.layers.recurrent.SimpleRNN(16, activation='tanh', use_bias=True, kernel_initializer='glorot_uniform',\n",
    "#                                  recurrent_initializer='orthogonal', bias_initializer='zeros',\n",
    "#                                  kernel_regularizer=None, recurrent_regularizer=None, bias_regularizer=None,\n",
    "#                                  activity_regularizer=None, kernel_constraint=None, recurrent_constraint=None,\n",
    "#                                  bias_constraint=None, dropout=0.0, recurrent_dropout=0.0, return_sequences=True))\n",
    "model.add(keras.layers.recurrent.SimpleRNN(10))\n",
    "\n",
    "model.summary()"
   ]
  },
  {
   "cell_type": "code",
   "execution_count": 26,
   "metadata": {},
   "outputs": [
    {
     "name": "stdout",
     "output_type": "stream",
     "text": [
      "Train on 60000 samples, validate on 10000 samples\n",
      "Epoch 1/2\n",
      "60000/60000 [==============================] - 10s - loss: 9.0730 - acc: 0.1857 - val_loss: 8.7882 - val_acc: 0.1403\n",
      "Epoch 2/2\n",
      "60000/60000 [==============================] - 9s - loss: 9.2809 - acc: 0.1604 - val_loss: 8.9952 - val_acc: 0.1944\n",
      "Test loss: 8.99519557343\n",
      "Test accuracy: 0.1944\n"
     ]
    }
   ],
   "source": [
    "model.compile(loss='categorical_crossentropy',\n",
    "              optimizer=RMSprop(),\n",
    "              metrics=['accuracy'])\n",
    "\n",
    "history = model.fit(x_train, y_train,\n",
    "                    batch_size=batch_size,\n",
    "                    epochs=epochs,\n",
    "                    verbose=1,\n",
    "                    validation_data=(x_test, y_test))\n",
    "score = model.evaluate(x_test, y_test, verbose=0)\n",
    "print('Test loss:', score[0])\n",
    "print('Test accuracy:', score[1])"
   ]
  },
  {
   "cell_type": "code",
   "execution_count": 3,
   "metadata": {
    "collapsed": true
   },
   "outputs": [],
   "source": [
    "#getting the recurrent weights like this is BS\n",
    "import tensorflow as tf\n",
    "x = model.weights[4]\n",
    "\n",
    "init = tf.global_variables_initializer()\n",
    "\n",
    "sess = tf.Session()\n",
    "sess.run(init)\n",
    "weight_mat = sess.run(x)    \n",
    "# print(v) # will show you your variable."
   ]
  },
  {
   "cell_type": "code",
   "execution_count": 4,
   "metadata": {},
   "outputs": [
    {
     "data": {
      "image/png": "[encoded data removed]",
      "text/plain": [
       "<matplotlib.figure.Figure at 0x7fbffc5e7a90>"
      ]
     },
     "metadata": {},
     "output_type": "display_data"
    }
   ],
   "source": [
    "plt.imshow(weight_mat>0.2, interpolation='none', cmap=plt.cm.gray) \n",
    "plt.show()"
   ]
  },
  {
   "cell_type": "code",
   "execution_count": 5,
   "metadata": {
    "collapsed": true
   },
   "outputs": [],
   "source": [
    "def find_pattern_by_weight(neuron, weight_matrix, min_weight):\n",
    "    current_neuron = neuron\n",
    "    list_of_paths = [[neuron]] #paths are lists\n",
    "    while True:\n",
    "        for path in list_of_paths:\n",
    "            current_neuron = path[-1]\n",
    "            next_neurons = close_neighbours(current_neuron, weight_matrix, min_weight) #select close neighbours\n",
    "            #add next neuron in path\n",
    "            extended_paths = []\n",
    "            for nn in next_neurons:\n",
    "                if nn not in path:\n",
    "                    extended_paths.append(path + [nn])\n",
    "        print(extended_paths)\n",
    "        if extended_paths == []:\n",
    "            break\n",
    "        for ep in extended_paths:\n",
    "            if ep not in list_of_paths:\n",
    "                extended_paths.append(ep)\n",
    "        \n",
    "    return list_of_paths"
   ]
  },
  {
   "cell_type": "code",
   "execution_count": 6,
   "metadata": {
    "collapsed": true
   },
   "outputs": [],
   "source": [
    "def close_neighbours(neuron, weight_matrix, min_weight):\n",
    "    \"\"\"\n",
    "    Returns a list of neighbours that have a connection strength above min_weight.\n",
    "    \"\"\"\n",
    "    neighs = weight_matrix[neuron] #select connections to neighbours\n",
    "    cn = [abs(neighs) > min_weight] #select close neighbours\n",
    "    close_neuron_numbers = np.squeeze(np.arange(0, weight_matrix.shape[1]))[cn]\n",
    "    return close_neuron_numbers"
   ]
  },
  {
   "cell_type": "code",
   "execution_count": 7,
   "metadata": {
    "collapsed": true
   },
   "outputs": [],
   "source": [
    "def find_pattern_by_weight(neuron, weight_matrix, min_weight, max_length):\n",
    "    \"\"\"\n",
    "    Returns a list of all patterns that have a connection neurons with connection \n",
    "    strength above min_weight and are of maximal size max_length.\n",
    "    \"\"\"\n",
    "    current_neuron = neuron\n",
    "    list_of_paths = [[neuron]] #paths are lists\n",
    "    dict_of_paths = {}\n",
    "    i = 1\n",
    "    while i < max_length:\n",
    "        eep = []\n",
    "        for path in list_of_paths:\n",
    "#             print(\"Path\", path)\n",
    "            current_neuron = path[-1]\n",
    "#             print(\"Current\", current_neuron)\n",
    "            next_neurons = close_neighbours(current_neuron, weight_matrix, min_weight) #select close neighbours\n",
    "#             print(\"Next\", next_neurons)\n",
    "            #add next neuron in path\n",
    "            extended_paths = []\n",
    "            for nn in next_neurons:\n",
    "                if nn not in path:\n",
    "                    extended_paths.append(path + [nn])\n",
    "            eep.extend(extended_paths)\n",
    "#             print(\"EEP\", eep)\n",
    "        if eep == []:\n",
    "            break\n",
    "        list_of_paths = eep\n",
    "        i += 1\n",
    "        dict_of_paths[i] = eep\n",
    "    sorted_list_of_paths = [list(np.sort(p)) for p in list_of_paths]\n",
    "    sorted_list_of_paths.sort()\n",
    "    list_of_paths_nodups = list(sorted_list_of_paths for sorted_list_of_paths,\n",
    "                                        _ in itertools.groupby(sorted_list_of_paths))\n",
    "    return list_of_paths, list_of_paths_nodups, dict_of_paths"
   ]
  },
  {
   "cell_type": "code",
   "execution_count": 8,
   "metadata": {
    "collapsed": true
   },
   "outputs": [],
   "source": [
    "lp, lpnd, dp = find_pattern_by_weight(9, weight_mat, 0.42, 3)"
   ]
  },
  {
   "cell_type": "code",
   "execution_count": 56,
   "metadata": {
    "collapsed": true
   },
   "outputs": [],
   "source": [
    "#get weights from layer 1 to 2\n",
    "x = model.weights[3]\n",
    "init = tf.global_variables_initializer()\n",
    "sess = tf.Session()\n",
    "sess.run(init)\n",
    "proj_weight_mat = sess.run(x)    \n",
    "\n",
    "#get weights in layer 1\n",
    "x = model.weights[1]\n",
    "init = tf.global_variables_initializer()\n",
    "sess = tf.Session()\n",
    "sess.run(init)\n",
    "rec_weight_mat_1 = sess.run(x)    "
   ]
  },
  {
   "cell_type": "code",
   "execution_count": 79,
   "metadata": {},
   "outputs": [
    {
     "name": "stdout",
     "output_type": "stream",
     "text": [
      "[0, 5, 11, 51, 41, 29, 23, 8, 57, 27]\n"
     ]
    }
   ],
   "source": [
    "patt_len = 10\n",
    "lp, lpnd, dp = find_pattern_by_weight(0, rec_weight_mat_1, 0.2142, patt_len)\n",
    "print(dp[patt_len][0])"
   ]
  },
  {
   "cell_type": "code",
   "execution_count": 80,
   "metadata": {
    "collapsed": true
   },
   "outputs": [],
   "source": [
    "def colimit_of_pattern(pattern, weight_mat, input_strength = 1, activation = None):\n",
    "    inp = np.zeros(weight_mat.shape[0])\n",
    "    inp[pattern] = 1\n",
    "    if activation:\n",
    "        outp = inp.dot(weight_mat) > activation\n",
    "    else: outp = inp.dot(weight_mat)\n",
    "    return outp"
   ]
  },
  {
   "cell_type": "code",
   "execution_count": 92,
   "metadata": {},
   "outputs": [
    {
     "data": {
      "image/png": "[encoded data removed]",
      "text/plain": [
       "<matplotlib.figure.Figure at 0x7fbfb1a48310>"
      ]
     },
     "metadata": {},
     "output_type": "display_data"
    }
   ],
   "source": [
    "outp = colimit_of_pattern(dp[patt_len][0], proj_weight_mat, activation=0.348)\n",
    "plt.imshow(outp.reshape(1,10), interpolation='none', cmap=plt.cm.gray) \n",
    "plt.show()"
   ]
  },
  {
   "cell_type": "code",
   "execution_count": 76,
   "metadata": {
    "collapsed": true
   },
   "outputs": [],
   "source": [
    "#check whether colimit is strongly connected\n",
    "#get weights in layer 1\n",
    "x = model.weights[4]\n",
    "init = tf.global_variables_initializer()\n",
    "sess = tf.Session()\n",
    "sess.run(init)\n",
    "rec_weight_mat_2 = sess.run(x)    \n",
    "\n",
    "lp, lpnd, dp = find_pattern_by_weight(7, rec_weight_mat_2, 0.42, 3)"
   ]
  },
  {
   "cell_type": "code",
   "execution_count": 77,
   "metadata": {},
   "outputs": [
    {
     "name": "stdout",
     "output_type": "stream",
     "text": [
      "{2: [[7, 2], [7, 4]], 3: [[7, 2, 5], [7, 4, 9]]}\n"
     ]
    }
   ],
   "source": [
    "print(dp)\n",
    "#there is at least one pattern that is like the colimit\n",
    "#but pattern for increased activation limit colimit is not in possible colimits"
   ]
  },
  {
   "cell_type": "code",
   "execution_count": null,
   "metadata": {
    "collapsed": true
   },
   "outputs": [],
   "source": []
  }
 ],
 "metadata": {
  "kernelspec": {
   "display_name": "Python [Root]",
   "language": "python",
   "name": "Python [Root]"
  },
  "language_info": {
   "codemirror_mode": {
    "name": "ipython",
    "version": 2
   },
   "file_extension": ".py",
   "mimetype": "text/x-python",
   "name": "python",
   "nbconvert_exporter": "python",
   "pygments_lexer": "ipython2",
   "version": "2.7.12"
  }
 },
 "nbformat": 4,
 "nbformat_minor": 2
}
