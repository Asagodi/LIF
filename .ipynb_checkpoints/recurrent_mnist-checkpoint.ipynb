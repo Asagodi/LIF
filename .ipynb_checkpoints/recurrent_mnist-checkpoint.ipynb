{
 "cells": [
  {
   "cell_type": "code",
   "execution_count": 9,
   "metadata": {
    "scrolled": true
   },
   "outputs": [
    {
     "name": "stdout",
     "output_type": "stream",
     "text": [
      "60000 train samples\n",
      "10000 test samples\n"
     ]
    },
    {
     "name": "stderr",
     "output_type": "stream",
     "text": [
      "/home/asagodi/.local/lib/python2.7/site-packages/ipykernel_launcher.py:43: UserWarning: The `input_dim` and `input_length` arguments in recurrent layers are deprecated. Use `input_shape` instead.\n",
      "/home/asagodi/.local/lib/python2.7/site-packages/ipykernel_launcher.py:43: UserWarning: Update your `SimpleRNN` call to the Keras 2 API: `SimpleRNN(100, return_sequences=True, input_shape=(1, 784))`\n"
     ]
    },
    {
     "name": "stdout",
     "output_type": "stream",
     "text": [
      "_________________________________________________________________\n",
      "Layer (type)                 Output Shape              Param #   \n",
      "=================================================================\n",
      "simple_rnn_3 (SimpleRNN)     (None, 1, 100)            88500     \n",
      "_________________________________________________________________\n",
      "simple_rnn_4 (SimpleRNN)     (None, 10)                1110      \n",
      "=================================================================\n",
      "Total params: 89,610\n",
      "Trainable params: 89,610\n",
      "Non-trainable params: 0\n",
      "_________________________________________________________________\n"
     ]
    }
   ],
   "source": [
    "'''\n",
    "Trains a simple deep RNN on the MNIST dataset.\n",
    "'''\n",
    "from __future__ import print_function\n",
    "\n",
    "import keras\n",
    "from keras.datasets import mnist\n",
    "from keras.models import Sequential\n",
    "from keras.layers import Dense, Dropout\n",
    "from keras.optimizers import RMSprop\n",
    "import tensorflow as tf\n",
    "\n",
    "import numpy as np\n",
    "import matplotlib.pyplot as plt\n",
    "import itertools\n",
    "\n",
    "from MESfunctions import *\n",
    "from additkerastf import *\n",
    "\n",
    "batch_size = 32\n",
    "num_classes = 10\n",
    "epochs = 20\n",
    "\n",
    "# the data, shuffled and split between train and test sets\n",
    "(x_train, y_train), (x_test, y_test) = mnist.load_data()\n",
    "\n",
    "x_train = x_train.reshape(60000, 1, 784)\n",
    "x_test = x_test.reshape(10000, 1, 784)\n",
    "x_train = x_train.astype('float32')\n",
    "x_test = x_test.astype('float32')\n",
    "x_train /= 255\n",
    "x_test /= 255\n",
    "print(x_train.shape[0], 'train samples')\n",
    "print(x_test.shape[0], 'test samples')\n",
    "\n",
    "# convert class vectors to binary class matrices\n",
    "y_train = keras.utils.to_categorical(y_train, num_classes)\n",
    "y_test = keras.utils.to_categorical(y_test, num_classes)\n",
    "y_train = y_train.reshape(60000,10)\n",
    "y_test = y_test.reshape(10000,10)\n",
    "\n",
    "model = Sequential()\n",
    "model.add(keras.layers.recurrent.SimpleRNN(100, input_dim=784, input_length=1, return_sequences=True))\n",
    "# model.add(keras.layers.recurrent.SimpleRNN(32, return_sequences=True))\n",
    "# model.add(keras.layers.recurrent.SimpleRNN(16, activation='tanh', use_bias=True, kernel_initializer='glorot_uniform',\n",
    "#                                  recurrent_initializer='orthogonal', bias_initializer='zeros',\n",
    "#                                  kernel_regularizer=None, recurrent_regularizer=None, bias_regularizer=None,\n",
    "#                                  activity_regularizer=None, kernel_constraint=None, recurrent_constraint=None,\n",
    "#                                  bias_constraint=None, dropout=0.0, recurrent_dropout=0.0, return_sequences=True))\n",
    "model.add(keras.layers.recurrent.SimpleRNN(10))\n",
    "\n",
    "model.summary()"
   ]
  },
  {
   "cell_type": "code",
   "execution_count": 10,
   "metadata": {},
   "outputs": [
    {
     "name": "stdout",
     "output_type": "stream",
     "text": [
      "Train on 60000 samples, validate on 10000 samples\n",
      "Epoch 1/20\n",
      "60000/60000 [==============================] - 21s - loss: 9.7640 - acc: 0.1357 - val_loss: 10.2548 - val_acc: 0.1452\n",
      "Epoch 2/20\n",
      "60000/60000 [==============================] - 21s - loss: 10.0733 - acc: 0.1416 - val_loss: 10.2548 - val_acc: 0.1452\n",
      "Epoch 3/20\n",
      "60000/60000 [==============================] - 17s - loss: 10.0733 - acc: 0.1416 - val_loss: 10.2548 - val_acc: 0.1452\n",
      "Epoch 4/20\n",
      "60000/60000 [==============================] - 17s - loss: 10.0733 - acc: 0.1416 - val_loss: 10.2548 - val_acc: 0.1452\n",
      "Epoch 5/20\n",
      "60000/60000 [==============================] - 17s - loss: 10.0733 - acc: 0.1416 - val_loss: 10.2548 - val_acc: 0.1452\n",
      "Epoch 6/20\n",
      "60000/60000 [==============================] - 16s - loss: 10.0733 - acc: 0.1416 - val_loss: 10.2548 - val_acc: 0.1452\n",
      "Epoch 7/20\n",
      "60000/60000 [==============================] - 17s - loss: 10.0733 - acc: 0.1416 - val_loss: 10.2548 - val_acc: 0.1452\n",
      "Epoch 8/20\n",
      "60000/60000 [==============================] - 18s - loss: 10.0733 - acc: 0.1416 - val_loss: 10.2548 - val_acc: 0.1452\n",
      "Epoch 9/20\n",
      "60000/60000 [==============================] - 17s - loss: 10.0733 - acc: 0.1416 - val_loss: 10.2548 - val_acc: 0.1452\n",
      "Epoch 10/20\n",
      "60000/60000 [==============================] - 23s - loss: 10.0733 - acc: 0.1416 - val_loss: 10.2548 - val_acc: 0.1452\n",
      "Epoch 11/20\n",
      "60000/60000 [==============================] - 23s - loss: 10.0733 - acc: 0.1416 - val_loss: 10.2548 - val_acc: 0.1452\n",
      "Epoch 12/20\n",
      "60000/60000 [==============================] - 17s - loss: 10.0733 - acc: 0.1416 - val_loss: 10.2548 - val_acc: 0.1452\n",
      "Epoch 13/20\n",
      "60000/60000 [==============================] - 17s - loss: 10.0733 - acc: 0.1416 - val_loss: 10.2548 - val_acc: 0.1452\n",
      "Epoch 14/20\n",
      "60000/60000 [==============================] - 19s - loss: 10.0733 - acc: 0.1416 - val_loss: 10.2548 - val_acc: 0.1452\n",
      "Epoch 15/20\n",
      "60000/60000 [==============================] - 22s - loss: 10.0733 - acc: 0.1416 - val_loss: 10.2548 - val_acc: 0.1452\n",
      "Epoch 16/20\n",
      "60000/60000 [==============================] - 19s - loss: 10.0733 - acc: 0.1416 - val_loss: 10.2548 - val_acc: 0.1452\n",
      "Epoch 17/20\n",
      "60000/60000 [==============================] - 16s - loss: 10.0733 - acc: 0.1416 - val_loss: 10.2548 - val_acc: 0.1452\n",
      "Epoch 18/20\n",
      "60000/60000 [==============================] - 18s - loss: 10.0733 - acc: 0.1416 - val_loss: 10.2548 - val_acc: 0.1452\n",
      "Epoch 19/20\n",
      "60000/60000 [==============================] - 19s - loss: 10.0733 - acc: 0.1416 - val_loss: 10.2548 - val_acc: 0.1452\n",
      "Epoch 20/20\n",
      "60000/60000 [==============================] - 18s - loss: 10.0733 - acc: 0.1416 - val_loss: 10.2548 - val_acc: 0.1452\n",
      "Test loss: 10.254799205\n",
      "Test accuracy: 0.1452\n"
     ]
    }
   ],
   "source": [
    "model.compile(loss='categorical_crossentropy',\n",
    "              optimizer=RMSprop(),\n",
    "              metrics=['accuracy'])\n",
    "\n",
    "history = model.fit(x_train, y_train,\n",
    "                    batch_size=batch_size,\n",
    "                    epochs=epochs,\n",
    "                    verbose=1,\n",
    "                    validation_data=(x_test, y_test))\n",
    "score = model.evaluate(x_test, y_test, verbose=0)\n",
    "print('Test loss:', score[0])\n",
    "print('Test accuracy:', score[1])"
   ]
  },
  {
   "cell_type": "code",
   "execution_count": 11,
   "metadata": {},
   "outputs": [],
   "source": [
    "rec_weight_mat_2 =  get_weights_TF(model, 4)"
   ]
  },
  {
   "cell_type": "code",
   "execution_count": 12,
   "metadata": {
    "scrolled": true
   },
   "outputs": [
    {
     "data": {
      "image/png": "[encoded data removed]",
      "text/plain": [
       "<matplotlib.figure.Figure at 0x7f896c1ff090>"
      ]
     },
     "metadata": {},
     "output_type": "display_data"
    }
   ],
   "source": [
    "plt.imshow(rec_weight_mat_2, interpolation='none', cmap=plt.cm.jet) \n",
    "plt.show()"
   ]
  },
  {
   "cell_type": "code",
   "execution_count": 13,
   "metadata": {},
   "outputs": [],
   "source": [
    "lp, lpnd, dp = find_pattern_by_weight(9, rec_weight_mat_2, 0.42, 3)"
   ]
  },
  {
   "cell_type": "code",
   "execution_count": 14,
   "metadata": {
    "collapsed": true
   },
   "outputs": [],
   "source": [
    "#get weights from layer 1 to 2\n",
    "proj_weight_mat = get_weights_TF(model, 3)\n",
    "\n",
    "#get weights in layer 1\n",
    "rec_weight_mat_1 = get_weights_TF(model, 1)  "
   ]
  },
  {
   "cell_type": "code",
   "execution_count": 15,
   "metadata": {},
   "outputs": [
    {
     "name": "stdout",
     "output_type": "stream",
     "text": [
      "46\n",
      "460\n"
     ]
    }
   ],
   "source": [
    "patt_len = 10\n",
    "lp, lpnd, dp = find_pattern_by_weight(0, rec_weight_mat_1, 0.2142, patt_len)\n",
    "print(len(dp[patt_len]))\n",
    "allnum = [item for sublist in dp[patt_len] for item in sublist]\n",
    "print(len(allnum))\n"
   ]
  },
  {
   "cell_type": "code",
   "execution_count": 18,
   "metadata": {},
   "outputs": [
    {
     "data": {
      "image/png": "[encoded data removed]",
      "text/plain": [
       "<matplotlib.figure.Figure at 0x7f8910057a90>"
      ]
     },
     "metadata": {},
     "output_type": "display_data"
    }
   ],
   "source": [
    "from collections import Counter\n",
    "\n",
    "dictnums = Counter(allnum)\n",
    "pos = np.arange(len(dictnums.keys()))\n",
    "ax = plt.axes()\n",
    "plt.bar(dictnums.keys(), dictnums.values(), 1, color='g')                 \n",
    "plt.show()"
   ]
  },
  {
   "cell_type": "code",
   "execution_count": 23,
   "metadata": {},
   "outputs": [
    {
     "name": "stdout",
     "output_type": "stream",
     "text": [
      "[0, 14, 15, 68]\n"
     ]
    }
   ],
   "source": [
    "relevantneurons = [ k for k in dictnums.keys() if dictnums[k] > 30 ]\n",
    "print(relevantneurons)"
   ]
  },
  {
   "cell_type": "code",
   "execution_count": 25,
   "metadata": {},
   "outputs": [
    {
     "data": {
      "image/png": "[encoded data removed]",
      "text/plain": [
       "<matplotlib.figure.Figure at 0x7f890b569150>"
      ]
     },
     "metadata": {},
     "output_type": "display_data"
    }
   ],
   "source": [
    "outp = colimit_of_pattern(relevantneurons, proj_weight_mat, activation=0.25)\n",
    "plt.imshow(outp.reshape(1,10), interpolation='none', cmap=plt.cm.gray) \n",
    "plt.show()"
   ]
  },
  {
   "cell_type": "code",
   "execution_count": 26,
   "metadata": {
    "collapsed": true
   },
   "outputs": [],
   "source": [
    "#check whether colimit is strongly connected\n",
    "lp, lpnd, dp = find_pattern_by_weight(1, rec_weight_mat_2, 0.42, 3)"
   ]
  },
  {
   "cell_type": "code",
   "execution_count": 27,
   "metadata": {},
   "outputs": [
    {
     "name": "stdout",
     "output_type": "stream",
     "text": [
      "{2: [[1, 0]], 3: [[1, 0, 4], [1, 0, 7]]}\n"
     ]
    }
   ],
   "source": [
    "print(dp)\n",
    "#there is at least one pattern that is like the colimit\n",
    "#but pattern for increased activation limit colimit is not in possible colimits"
   ]
  },
  {
   "cell_type": "code",
   "execution_count": null,
   "metadata": {
    "collapsed": true
   },
   "outputs": [],
   "source": []
  }
 ],
 "metadata": {
  "kernelspec": {
   "display_name": "Python 2",
   "language": "python",
   "name": "python2"
  }
 },
 "nbformat": 4,
 "nbformat_minor": 2
}
