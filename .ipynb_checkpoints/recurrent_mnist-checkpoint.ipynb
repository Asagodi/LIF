{
 "cells": [
  {
   "cell_type": "code",
   "execution_count": 4,
   "metadata": {
    "collapsed": true
   },
   "outputs": [],
   "source": [
    "import sys\n",
    "sys.path.append('/home/asagodi/Documents/UvA/Master/MES/LIF/FuncsTools')"
   ]
  },
  {
   "cell_type": "code",
   "execution_count": 5,
   "metadata": {
    "scrolled": true
   },
   "outputs": [
    {
     "name": "stdout",
     "output_type": "stream",
     "text": [
      "60000 train samples\n",
      "10000 test samples\n"
     ]
    },
    {
     "name": "stderr",
     "output_type": "stream",
     "text": [
      "/home/asagodi/.local/lib/python2.7/site-packages/ipykernel_launcher.py:44: UserWarning: The `input_dim` and `input_length` arguments in recurrent layers are deprecated. Use `input_shape` instead.\n",
      "/home/asagodi/.local/lib/python2.7/site-packages/ipykernel_launcher.py:44: UserWarning: Update your `SimpleRNN` call to the Keras 2 API: `SimpleRNN(100, return_sequences=True, input_shape=(1, 784))`\n"
     ]
    },
    {
     "name": "stdout",
     "output_type": "stream",
     "text": [
      "_________________________________________________________________\n",
      "Layer (type)                 Output Shape              Param #   \n",
      "=================================================================\n",
      "simple_rnn_1 (SimpleRNN)     (None, 1, 100)            88500     \n",
      "_________________________________________________________________\n",
      "simple_rnn_2 (SimpleRNN)     (None, 10)                1110      \n",
      "=================================================================\n",
      "Total params: 89,610\n",
      "Trainable params: 89,610\n",
      "Non-trainable params: 0\n",
      "_________________________________________________________________\n"
     ]
    }
   ],
   "source": [
    "'''\n",
    "Trains a simple deep RNN on the MNIST dataset.\n",
    "'''\n",
    "from __future__ import print_function\n",
    "\n",
    "import keras\n",
    "from keras.datasets import mnist\n",
    "from keras.models import Sequential\n",
    "from keras.layers import Dense, Dropout\n",
    "from keras.optimizers import RMSprop\n",
    "import tensorflow as tf\n",
    "\n",
    "import numpy as np\n",
    "import matplotlib.pyplot as plt\n",
    "import itertools\n",
    "import networkx as nx\n",
    "\n",
    "from MESfunctions import *\n",
    "from additkerastf import *\n",
    "\n",
    "batch_size = 32\n",
    "num_classes = 10\n",
    "epochs = 2\n",
    "\n",
    "# the data, shuffled and split between train and test sets\n",
    "(x_train, y_train), (x_test, y_test) = mnist.load_data()\n",
    "\n",
    "x_train = x_train.reshape(60000, 1, 784)\n",
    "x_test = x_test.reshape(10000, 1, 784)\n",
    "x_train = x_train.astype('float32')\n",
    "x_test = x_test.astype('float32')\n",
    "x_train /= 255\n",
    "x_test /= 255\n",
    "print(x_train.shape[0], 'train samples')\n",
    "print(x_test.shape[0], 'test samples')\n",
    "\n",
    "# convert class vectors to binary class matrices\n",
    "y_train = keras.utils.to_categorical(y_train, num_classes)\n",
    "y_test = keras.utils.to_categorical(y_test, num_classes)\n",
    "y_train = y_train.reshape(60000,10)\n",
    "y_test = y_test.reshape(10000,10)\n",
    "\n",
    "model = Sequential()\n",
    "model.add(keras.layers.recurrent.SimpleRNN(100, input_dim=784, input_length=1, return_sequences=True))\n",
    "# model.add(keras.layers.recurrent.SimpleRNN(32, return_sequences=True))\n",
    "# model.add(keras.layers.recurrent.SimpleRNN(16, activation='tanh', use_bias=True, kernel_initializer='glorot_uniform',\n",
    "#                                  recurrent_initializer='orthogonal', bias_initializer='zeros',\n",
    "#                                  kernel_regularizer=None, recurrent_regularizer=None, bias_regularizer=None,\n",
    "#                                  activity_regularizer=None, kernel_constraint=None, recurrent_constraint=None,\n",
    "#                                  bias_constraint=None, dropout=0.0, recurrent_dropout=0.0, return_sequences=True))\n",
    "model.add(keras.layers.recurrent.SimpleRNN(10))\n",
    "\n",
    "model.summary()"
   ]
  },
  {
   "cell_type": "code",
   "execution_count": 6,
   "metadata": {},
   "outputs": [
    {
     "name": "stdout",
     "output_type": "stream",
     "text": [
      "Train on 60000 samples, validate on 10000 samples\n",
      "Epoch 1/2\n",
      "60000/60000 [==============================] - 22s - loss: 9.9811 - acc: 0.1885 - val_loss: 10.4897 - val_acc: 0.1899\n",
      "Epoch 2/2\n",
      "60000/60000 [==============================] - 22s - loss: 10.5796 - acc: 0.1908 - val_loss: 10.4897 - val_acc: 0.1899\n",
      "Test loss: 10.4896564545\n",
      "Test accuracy: 0.1899\n"
     ]
    }
   ],
   "source": [
    "model.compile(loss='categorical_crossentropy',\n",
    "              optimizer=RMSprop(),\n",
    "              metrics=['accuracy'])\n",
    "\n",
    "history = model.fit(x_train, y_train,\n",
    "                    batch_size=batch_size,\n",
    "                    epochs=epochs,\n",
    "                    verbose=1,\n",
    "                    validation_data=(x_test, y_test))\n",
    "score = model.evaluate(x_test, y_test, verbose=0)\n",
    "print('Test loss:', score[0])\n",
    "print('Test accuracy:', score[1])"
   ]
  },
  {
   "cell_type": "code",
   "execution_count": 97,
   "metadata": {
    "collapsed": true
   },
   "outputs": [],
   "source": [
    "rec_weight_mat_2 =  get_weights_TF(model, 4)"
   ]
  },
  {
   "cell_type": "code",
   "execution_count": 69,
   "metadata": {
    "scrolled": true
   },
   "outputs": [
    {
     "data": {
      "image/png": "[encoded data removed]",
      "text/plain": [
       "<matplotlib.figure.Figure at 0x7f550d30a050>"
      ]
     },
     "metadata": {},
     "output_type": "display_data"
    }
   ],
   "source": [
    "plt.imshow(rec_weight_mat_2, interpolation='none', cmap=plt.cm.jet) \n",
    "plt.show()"
   ]
  },
  {
   "cell_type": "code",
   "execution_count": 70,
   "metadata": {
    "collapsed": true
   },
   "outputs": [],
   "source": [
    "lp, lpnd, dp = find_pattern_by_weight(9, rec_weight_mat_2, 0.42, 3)"
   ]
  },
  {
   "cell_type": "code",
   "execution_count": 71,
   "metadata": {
    "collapsed": true
   },
   "outputs": [],
   "source": [
    "#get weights from layer 1 to 2\n",
    "proj_weight_mat = get_weights_TF(model, 3)\n",
    "\n",
    "#get weights in layer 1\n",
    "rec_weight_mat_1 = get_weights_TF(model, 1)  "
   ]
  },
  {
   "cell_type": "code",
   "execution_count": 72,
   "metadata": {},
   "outputs": [
    {
     "name": "stdout",
     "output_type": "stream",
     "text": [
      "69\n",
      "690\n"
     ]
    }
   ],
   "source": [
    "patt_len = 10\n",
    "lp, lpnd, dp = find_pattern_by_weight(0, rec_weight_mat_1, 0.2142, patt_len)\n",
    "print(len(dp[patt_len]))\n",
    "allnum = [item for sublist in dp[patt_len] for item in sublist]\n",
    "print(len(allnum))\n"
   ]
  },
  {
   "cell_type": "code",
   "execution_count": 73,
   "metadata": {},
   "outputs": [
    {
     "data": {
      "image/png": "[encoded data removed]",
      "text/plain": [
       "<matplotlib.figure.Figure at 0x7f550d478fd0>"
      ]
     },
     "metadata": {},
     "output_type": "display_data"
    }
   ],
   "source": [
    "from collections import Counter\n",
    "\n",
    "dictnums = Counter(allnum)\n",
    "pos = np.arange(len(dictnums.keys()))\n",
    "ax = plt.axes()\n",
    "plt.bar(dictnums.keys(), dictnums.values(), 1, color='g')                 \n",
    "plt.show()"
   ]
  },
  {
   "cell_type": "code",
   "execution_count": 74,
   "metadata": {},
   "outputs": [
    {
     "name": "stdout",
     "output_type": "stream",
     "text": [
      "[0, 32, 44, 46, 97]\n"
     ]
    }
   ],
   "source": [
    "relevantneurons = [ k for k in dictnums.keys() if dictnums[k] > 30 ]\n",
    "print(relevantneurons)"
   ]
  },
  {
   "cell_type": "code",
   "execution_count": 75,
   "metadata": {},
   "outputs": [
    {
     "data": {
      "image/png": "[encoded data removed]",
      "text/plain": [
       "<matplotlib.figure.Figure at 0x7f550c596a10>"
      ]
     },
     "metadata": {},
     "output_type": "display_data"
    }
   ],
   "source": [
    "outp = colimit_of_pattern(relevantneurons, proj_weight_mat, activation=0.25)\n",
    "plt.imshow(outp.reshape(1,10), interpolation='none', cmap=plt.cm.gray) \n",
    "plt.show()"
   ]
  },
  {
   "cell_type": "code",
   "execution_count": 76,
   "metadata": {
    "collapsed": true
   },
   "outputs": [],
   "source": [
    "#check whether colimit is strongly connected\n",
    "lp, lpnd, dp = find_pattern_by_weight(1, rec_weight_mat_2, 0.42, 3)"
   ]
  },
  {
   "cell_type": "code",
   "execution_count": 77,
   "metadata": {},
   "outputs": [
    {
     "name": "stdout",
     "output_type": "stream",
     "text": [
      "{}\n"
     ]
    }
   ],
   "source": [
    "print(dp)\n",
    "#there is at least one pattern that is like the colimit\n",
    "#but pattern for increased activation limit colimit is not in possible colimits"
   ]
  },
  {
   "cell_type": "code",
   "execution_count": 95,
   "metadata": {},
   "outputs": [
    {
     "data": {
      "text/plain": [
       "<generator object strongly_connected_components at 0x7f550c2dccd0>"
      ]
     },
     "execution_count": 95,
     "metadata": {},
     "output_type": "execute_result"
    }
   ],
   "source": [
    "import networkx as nx\n",
    "rec_weight_mat_2 = np.around(rec_weight_mat_2, decimals = 1)\n",
    "G=nx.DiGraph(rec_weight_mat_2)\n",
    "nx.strongly_connected_components(G)"
   ]
  },
  {
   "cell_type": "code",
   "execution_count": 92,
   "metadata": {},
   "outputs": [
    {
     "data": {
      "image/png": "[encoded data removed]",
      "text/plain": [
       "<matplotlib.figure.Figure at 0x7f55233700d0>"
      ]
     },
     "metadata": {},
     "output_type": "display_data"
    }
   ],
   "source": [
    "pos = nx.spring_layout(G)\n",
    "nx.draw_networkx_nodes(G, pos)\n",
    "nx.draw_networkx_edges(G, pos, edgelist = G.edges(), arrows=True)\n",
    "labels = nx.get_edge_attributes(G,'weight')\n",
    "nx.draw_networkx_edge_labels(G,pos,edge_labels=labels)\n",
    "plt.show()"
   ]
  },
  {
   "cell_type": "code",
   "execution_count": 99,
   "metadata": {},
   "outputs": [
    {
     "name": "stdout",
     "output_type": "stream",
     "text": [
      "[[-0.31        0.06        0.01        0.23999999  0.02       -0.09       -0.41\n",
      "  -0.51999998  0.23       -0.58999997]\n",
      " [-0.34999999 -0.15000001 -0.33000001 -0.03        0.15000001  0.13\n",
      "   0.15000001 -0.60000002 -0.38999999  0.41      ]\n",
      " [ 0.31999999  0.05       -0.34999999  0.15000001 -0.01        0.55000001\n",
      "  -0.19        0.13       -0.50999999 -0.37      ]\n",
      " [ 0.28        0.28999999  0.36000001  0.28       -0.19        0.40000001\n",
      "   0.47999999 -0.40000001  0.18000001  0.02      ]\n",
      " [ 0.13        0.33000001 -0.52999997  0.03        0.49000001  0.17       -0.02\n",
      "   0.04        0.55000001  0.16      ]\n",
      " [ 0.60000002  0.17       -0.02       -0.17        0.28       -0.56        0.08\n",
      "  -0.31999999 -0.25999999 -0.14      ]\n",
      " [ 0.11       -0.31999999 -0.25999999  0.81       -0.09       -0.33000001\n",
      "   0.17        0.1         0.02        0.07      ]\n",
      " [ 0.38       -0.07       -0.03        0.         -0.41999999  0.04       -0.62\n",
      "  -0.22        0.15000001  0.46000001]\n",
      " [-0.25        0.73000002  0.16        0.33000001  0.04       -0.15000001\n",
      "  -0.22        0.16       -0.31999999  0.25      ]\n",
      " [-0.11        0.31999999 -0.50999999 -0.22       -0.66000003 -0.20999999\n",
      "   0.25999999 -0.01        0.06       -0.15000001]]\n"
     ]
    }
   ],
   "source": [
    "print(rec_weight_mat_2.round(decimals=2))"
   ]
  },
  {
   "cell_type": "code",
   "execution_count": 101,
   "metadata": {},
   "outputs": [
    {
     "data": {
      "text/plain": [
       "<generator object strongly_connected_components at 0x7f550c2dc230>"
      ]
     },
     "execution_count": 101,
     "metadata": {},
     "output_type": "execute_result"
    }
   ],
   "source": [
    "nx.strongly_connected_components(G)"
   ]
  },
  {
   "cell_type": "code",
   "execution_count": 103,
   "metadata": {},
   "outputs": [
    {
     "data": {
      "text/plain": [
       "[10]"
      ]
     },
     "execution_count": 103,
     "metadata": {},
     "output_type": "execute_result"
    }
   ],
   "source": [
    "[len(c) for c in sorted(nx.strongly_connected_components(G),\n",
    "                        key=len, reverse=True)]"
   ]
  },
  {
   "cell_type": "code",
   "execution_count": 104,
   "metadata": {},
   "outputs": [
    {
     "name": "stdout",
     "output_type": "stream",
     "text": [
      "set([0, 1, 2, 3, 4, 5, 6, 7, 8, 9])\n"
     ]
    },
    {
     "data": {
      "text/plain": [
       "[None]"
      ]
     },
     "execution_count": 104,
     "metadata": {},
     "output_type": "execute_result"
    }
   ],
   "source": [
    "[print(c) for c in sorted(nx.strongly_connected_components(G),\n",
    "                        key=len, reverse=True)]"
   ]
  },
  {
   "cell_type": "code",
   "execution_count": null,
   "metadata": {
    "collapsed": true
   },
   "outputs": [],
   "source": []
  }
 ],
 "metadata": {
  "kernelspec": {
   "display_name": "Python 2",
   "language": "python",
   "name": "python2"
  },
  "language_info": {
   "codemirror_mode": {
    "name": "ipython",
    "version": 2
   },
   "file_extension": ".py",
   "mimetype": "text/x-python",
   "name": "python",
   "nbconvert_exporter": "python",
   "pygments_lexer": "ipython2",
   "version": "2.7.12"
  }
 },
 "nbformat": 4,
 "nbformat_minor": 2
}
