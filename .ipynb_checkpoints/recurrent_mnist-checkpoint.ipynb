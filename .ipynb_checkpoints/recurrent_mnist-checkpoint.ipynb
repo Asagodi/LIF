{
 "cells": [
  {
   "cell_type": "code",
   "execution_count": 1,
   "metadata": {},
   "outputs": [
    {
     "name": "stderr",
     "output_type": "stream",
     "text": [
      "Using TensorFlow backend.\n"
     ]
    },
    {
     "name": "stdout",
     "output_type": "stream",
     "text": [
      "60000 train samples\n",
      "10000 test samples\n"
     ]
    },
    {
     "name": "stderr",
     "output_type": "stream",
     "text": [
      "/home/asagodi/.local/lib/python2.7/site-packages/ipykernel_launcher.py:38: UserWarning: The `input_dim` and `input_length` arguments in recurrent layers are deprecated. Use `input_shape` instead.\n",
      "/home/asagodi/.local/lib/python2.7/site-packages/ipykernel_launcher.py:38: UserWarning: Update your `SimpleRNN` call to the Keras 2 API: `SimpleRNN(100, return_sequences=True, input_shape=(1, 784))`\n"
     ]
    },
    {
     "name": "stdout",
     "output_type": "stream",
     "text": [
      "_________________________________________________________________\n",
      "Layer (type)                 Output Shape              Param #   \n",
      "=================================================================\n",
      "simple_rnn_1 (SimpleRNN)     (None, 1, 100)            88500     \n",
      "_________________________________________________________________\n",
      "simple_rnn_2 (SimpleRNN)     (None, 10)                1110      \n",
      "=================================================================\n",
      "Total params: 89,610\n",
      "Trainable params: 89,610\n",
      "Non-trainable params: 0\n",
      "_________________________________________________________________\n"
     ]
    }
   ],
   "source": [
    "'''\n",
    "Trains a simple deep RNN on the MNIST dataset.\n",
    "'''\n",
    "from __future__ import print_function\n",
    "\n",
    "import keras\n",
    "from keras.datasets import mnist\n",
    "from keras.models import Sequential\n",
    "from keras.layers import Dense, Dropout\n",
    "from keras.optimizers import RMSprop\n",
    "\n",
    "import numpy as np\n",
    "import matplotlib.pyplot as plt\n",
    "import itertools\n",
    "\n",
    "\n",
    "batch_size = 32\n",
    "num_classes = 10\n",
    "epochs = 2\n",
    "\n",
    "# the data, shuffled and split between train and test sets\n",
    "(x_train, y_train), (x_test, y_test) = mnist.load_data()\n",
    "\n",
    "x_train = x_train.reshape(60000, 1, 784)\n",
    "x_test = x_test.reshape(10000, 1, 784)\n",
    "x_train = x_train.astype('float32')\n",
    "x_test = x_test.astype('float32')\n",
    "x_train /= 255\n",
    "x_test /= 255\n",
    "print(x_train.shape[0], 'train samples')\n",
    "print(x_test.shape[0], 'test samples')\n",
    "\n",
    "# convert class vectors to binary class matrices\n",
    "y_train = keras.utils.to_categorical(y_train, num_classes)\n",
    "y_test = keras.utils.to_categorical(y_test, num_classes)\n",
    "y_train = y_train.reshape(60000,10)\n",
    "y_test = y_test.reshape(10000,10)\n",
    "\n",
    "model = Sequential()\n",
    "model.add(keras.layers.recurrent.SimpleRNN(100, input_dim=784, input_length=1, return_sequences=True))\n",
    "# model.add(keras.layers.recurrent.SimpleRNN(32, return_sequences=True))\n",
    "# model.add(keras.layers.recurrent.SimpleRNN(16, activation='tanh', use_bias=True, kernel_initializer='glorot_uniform',\n",
    "#                                  recurrent_initializer='orthogonal', bias_initializer='zeros',\n",
    "#                                  kernel_regularizer=None, recurrent_regularizer=None, bias_regularizer=None,\n",
    "#                                  activity_regularizer=None, kernel_constraint=None, recurrent_constraint=None,\n",
    "#                                  bias_constraint=None, dropout=0.0, recurrent_dropout=0.0, return_sequences=True))\n",
    "model.add(keras.layers.recurrent.SimpleRNN(10))\n",
    "\n",
    "model.summary()"
   ]
  },
  {
   "cell_type": "code",
   "execution_count": 2,
   "metadata": {},
   "outputs": [
    {
     "name": "stdout",
     "output_type": "stream",
     "text": [
      "(784, 100)\n",
      "(100, 10)\n"
     ]
    }
   ],
   "source": [
    "for layer in model.layers:\n",
    "    print(layer.get_weights()[0].shape)"
   ]
  },
  {
   "cell_type": "code",
   "execution_count": 3,
   "metadata": {},
   "outputs": [
    {
     "name": "stdout",
     "output_type": "stream",
     "text": [
      "<tf.Variable 'simple_rnn_1/recurrent_kernel:0' shape=(100, 100) dtype=float32_ref>\n",
      "<tf.Variable 'simple_rnn_2/recurrent_kernel:0' shape=(10, 10) dtype=float32_ref>\n"
     ]
    }
   ],
   "source": [
    "for layer in model.layers:\n",
    "    print(layer.recurrent_kernel)"
   ]
  },
  {
   "cell_type": "code",
   "execution_count": 46,
   "metadata": {},
   "outputs": [
    {
     "data": {
      "text/plain": [
       "<tf.Variable 'simple_rnn_2/recurrent_kernel:0' shape=(10, 10) dtype=float32_ref>"
      ]
     },
     "execution_count": 46,
     "metadata": {},
     "output_type": "execute_result"
    }
   ],
   "source": [
    "model.weights[4]"
   ]
  },
  {
   "cell_type": "code",
   "execution_count": 47,
   "metadata": {},
   "outputs": [],
   "source": [
    "#getting the recurrent weights like this is BS\n",
    "import tensorflow as tf\n",
    "x = model.weights[4]\n",
    "\n",
    "init = tf.global_variables_initializer()\n",
    "\n",
    "sess = tf.Session()\n",
    "sess.run(init)\n",
    "weight_mat = sess.run(x)    \n",
    "# print(v) # will show you your variable."
   ]
  },
  {
   "cell_type": "code",
   "execution_count": 49,
   "metadata": {},
   "outputs": [
    {
     "data": {
      "image/png": "[encoded data removed]",
      "text/plain": [
       "<matplotlib.figure.Figure at 0x7fe5a4b8bf10>"
      ]
     },
     "metadata": {},
     "output_type": "display_data"
    }
   ],
   "source": [
    "plt.imshow(weight_mat>0.2, interpolation='none', cmap=plt.cm.gray) \n",
    "plt.show()"
   ]
  },
  {
   "cell_type": "code",
   "execution_count": 146,
   "metadata": {},
   "outputs": [],
   "source": [
    "def find_pattern_by_weight(neuron, weight_matrix, min_weight):\n",
    "    current_neuron = neuron\n",
    "    list_of_paths = [[neuron]] #paths are lists\n",
    "    while True:\n",
    "        for path in list_of_paths:\n",
    "            current_neuron = path[-1]\n",
    "            next_neurons = close_neighbours(current_neuron, weight_matrix, min_weight) #select close neighbours\n",
    "            #add next neuron in path\n",
    "            extended_paths = []\n",
    "            for nn in next_neurons:\n",
    "                if nn not in path:\n",
    "                    extended_paths.append(path + [nn])\n",
    "        print(extended_paths)\n",
    "        if extended_paths == []:\n",
    "            break\n",
    "        for ep in extended_paths:\n",
    "            if ep not in list_of_paths:\n",
    "                extended_paths.append(ep)\n",
    "        \n",
    "    return list_of_paths"
   ]
  },
  {
   "cell_type": "code",
   "execution_count": 257,
   "metadata": {},
   "outputs": [],
   "source": [
    "def find_pattern_by_weight(neuron, weight_matrix, min_weight, max_length):\n",
    "    \"\"\"\n",
    "    Returns a list of all patterns that have a connection neurons with connection \n",
    "    strength above min_weight and are of maximal size max_length.\n",
    "    \"\"\"\n",
    "    current_neuron = neuron\n",
    "    list_of_paths = [[neuron]] #paths are lists\n",
    "    i = 1\n",
    "    while i < max_length:\n",
    "        eep = []\n",
    "        for path in list_of_paths:\n",
    "#             print(\"Path\", path)\n",
    "            current_neuron = path[-1]\n",
    "#             print(\"Current\", current_neuron)\n",
    "            next_neurons = close_neighbours(current_neuron, weight_matrix, min_weight) #select close neighbours\n",
    "#             print(\"Next\", next_neurons)\n",
    "            #add next neuron in path\n",
    "            extended_paths = []\n",
    "            for nn in next_neurons:\n",
    "                if nn not in path:\n",
    "                    extended_paths.append(path + [nn])\n",
    "            eep.extend(extended_paths)\n",
    "#             print(\"EEP\", eep)\n",
    "        if eep == []:\n",
    "#             sorted_list_of_paths = [p.sort() for p in list_of_paths]\n",
    "#             print(sorted_list_of_paths)\n",
    "#             list_of_paths.sort()\n",
    "#             list_of_paths_nodups = list(list_of_paths for list_of_paths,_ in itertools.groupby(list_of_paths))\n",
    "            return list_of_paths\n",
    "        list_of_paths = eep\n",
    "        i += 1\n",
    "    return list_of_paths"
   ]
  },
  {
   "cell_type": "code",
   "execution_count": 258,
   "metadata": {},
   "outputs": [
    {
     "name": "stdout",
     "output_type": "stream",
     "text": [
      "[[0, 2], [0, 3], [0, 4], [0, 5], [0, 6], [0, 7], [0, 8]]\n"
     ]
    }
   ],
   "source": [
    "print(find_pattern_by_weight(0, weight_mat, 0.1, 2))"
   ]
  },
  {
   "cell_type": "code",
   "execution_count": 227,
   "metadata": {},
   "outputs": [],
   "source": [
    "def close_neighbours(neuron, weight_matrix, min_weight):\n",
    "    \"\"\"\n",
    "    Returns a list of neighbours that have a connection strength above min_weight.\n",
    "    \"\"\"\n",
    "    neighs = weight_matrix[neuron] #select connections to neighbours\n",
    "    cn = [abs(neighs) > min_weight] #select close neighbours\n",
    "    close_neuron_numbers = np.squeeze(np.arange(0, weight_matrix.shape[1]))[cn]\n",
    "    return close_neuron_numbers"
   ]
  },
  {
   "cell_type": "code",
   "execution_count": null,
   "metadata": {
    "collapsed": true
   },
   "outputs": [],
   "source": [
    "model.compile(loss='categorical_crossentropy',\n",
    "              optimizer=RMSprop(),\n",
    "              metrics=['accuracy'])\n",
    "\n",
    "history = model.fit(x_train, y_train,\n",
    "                    batch_size=batch_size,\n",
    "                    epochs=epochs,\n",
    "                    verbose=1,\n",
    "                    validation_data=(x_test, y_test))\n",
    "score = model.evaluate(x_test, y_test, verbose=0)\n",
    "print('Test loss:', score[0])\n",
    "print('Test accuracy:', score[1])"
   ]
  },
  {
   "cell_type": "code",
   "execution_count": null,
   "metadata": {
    "collapsed": true
   },
   "outputs": [],
   "source": [
    "# Visualize weights\n",
    "\n",
    "W = model.layers[0].get_weights()\n",
    "W = np.squeeze(W[0])\n",
    "print(\"W shape : \", W.shape)\n",
    "W = np.squeeze(W[0])\n",
    "\n",
    "plt.imshow(W.reshape(20,20), interpolation='none', cmap=plt.cm.gray) \n",
    "plt.show()"
   ]
  },
  {
   "cell_type": "code",
   "execution_count": null,
   "metadata": {
    "collapsed": true
   },
   "outputs": [],
   "source": [
    "#find pattern\n",
    "W = model.layers[0].get_weights()\n",
    "weights = np.squeeze(W[0])\n",
    "\n",
    "inp = np.zeros((28,28))\n",
    "inp[1:5:2,::3] = 1\n",
    "inp = inp.reshape((784,))\n",
    "\n",
    "outp = inp.dot(weights) > .5\n",
    "\n",
    "plt.imshow(outp.reshape(20,20), interpolation='none', cmap=plt.cm.gray) \n",
    "plt.show()"
   ]
  },
  {
   "cell_type": "code",
   "execution_count": null,
   "metadata": {
    "collapsed": true
   },
   "outputs": [],
   "source": [
    "inp = np.ones((784,))\n",
    "outp = inp.dot(weights)\n",
    "average_act = np.sum(outp)/512"
   ]
  },
  {
   "cell_type": "code",
   "execution_count": null,
   "metadata": {
    "collapsed": true
   },
   "outputs": [],
   "source": [
    "W = model.layers[0].get_weights()[0]\n",
    "W.shape"
   ]
  }
 ],
 "metadata": {
  "kernelspec": {
   "display_name": "Python 2",
   "language": "python",
   "name": "python2"
  },
  "language_info": {
   "codemirror_mode": {
    "name": "ipython",
    "version": 2
   },
   "file_extension": ".py",
   "mimetype": "text/x-python",
   "name": "python",
   "nbconvert_exporter": "python",
   "pygments_lexer": "ipython2",
   "version": "2.7.12"
  }
 },
 "nbformat": 4,
 "nbformat_minor": 2
}
